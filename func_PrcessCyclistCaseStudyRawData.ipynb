{
 "cells": [
  {
   "cell_type": "code",
   "execution_count": 18,
   "metadata": {},
   "outputs": [],
   "source": [
    "def PrcessCyclistCaseStudyRawData (file,outfile):\n",
    "    import pandas as pd\n",
    "    import numpy as np\n",
    "    B = pd.read_excel(file)\n",
    "    B.drop(columns={'start_station_name', 'start_station_id', 'end_station_name',\n",
    "           'end_station_id', 'start_lat', 'start_lng', 'end_lat', 'end_lng'},axis='columns', inplace=True)\n",
    "    # AS Ride_id should be uniqe values, so will delet duplicates.\n",
    "    B.drop_duplicates(subset =\"ride_id\",\n",
    "                         keep = 'first', inplace = True)\n",
    "    B['Trip_Duration']=B['ended_at']-B['started_at']\n",
    "    B['Trip_Minutes'] =B['Trip_Duration'] / np.timedelta64(1, 'm')\n",
    "    B['Day_of_Week'] =B['started_at'].dt.day_name()\n",
    "    criteria_All_below_Or_Equal_To_Zero = B['Trip_Minutes']<=0\n",
    "    # Remove wrong Data rows as in this case it seems that start_Trip time is bigger than the end trip time \n",
    "    # whcih is not logic may be entry error or others \n",
    "    B.drop(B[criteria_All_below_Or_Equal_To_Zero].index, inplace = True)\n",
    "    B['Trip_Minutes'] = B['Trip_Minutes'].round(0)\n",
    "    B['Day']=B['started_at'].dt.day\n",
    "    B['month']=B['started_at'].dt.month\n",
    "    B['year']=B['started_at'].dt.year\n",
    "    table12_2020 = pd.pivot_table(B,index=[\"year\" , \"month\" , \"Day_of_Week\"],values=[\"Trip_Minutes\"],\n",
    "               columns=[\"member_casual\" ],aggfunc=[np.mean,len,sum],fill_value=0)\n",
    "\n",
    "    table12_2020.to_excel(outfile)"
   ]
  },
  {
   "cell_type": "code",
   "execution_count": 19,
   "metadata": {},
   "outputs": [],
   "source": [
    "file2 =r\"E:\\projects\\Case Study Form\\project preparation\\cyclist case study track 1\\Project data\\Open  Folders\\trip data\\1 year recent data\\data\\excel filer master\\10_2021.xlsx\""
   ]
  },
  {
   "cell_type": "code",
   "execution_count": 20,
   "metadata": {},
   "outputs": [],
   "source": [
    "outfile2 = r\"E:\\projects\\Case Study Form\\project preparation\\cyclist case study track 1\\Project data\\Open  Folders\\trip data\\1 year recent data\\concate\\1.xlsx\""
   ]
  },
  {
   "cell_type": "code",
   "execution_count": 21,
   "metadata": {},
   "outputs": [],
   "source": [
    "PrcessCyclistCaseStudyRawData (file2,outfile2)"
   ]
  },
  {
   "cell_type": "code",
   "execution_count": 22,
   "metadata": {},
   "outputs": [],
   "source": [
    "file3 =r\"E:\\projects\\Case Study Form\\project preparation\\cyclist case study track 1\\Project data\\Open  Folders\\trip data\\1 year recent data\\data\\excel filer master\\09_2021.xlsx\"\n",
    "outfile3=r\"E:\\projects\\Case Study Form\\project preparation\\cyclist case study track 1\\Project data\\Open  Folders\\trip data\\1 year recent data\\concate\\2.xlsx\""
   ]
  },
  {
   "cell_type": "code",
   "execution_count": 23,
   "metadata": {},
   "outputs": [],
   "source": [
    "PrcessCyclistCaseStudyRawData (file3,outfile3)"
   ]
  },
  {
   "cell_type": "code",
   "execution_count": 24,
   "metadata": {},
   "outputs": [],
   "source": [
    "file4 =r\"E:\\projects\\Case Study Form\\project preparation\\cyclist case study track 1\\Project data\\Open  Folders\\trip data\\1 year recent data\\data\\excel filer master\\08_2021.xlsx\"\n",
    "outfile4=r\"E:\\projects\\Case Study Form\\project preparation\\cyclist case study track 1\\Project data\\Open  Folders\\trip data\\1 year recent data\\concate\\4.xlsx\""
   ]
  },
  {
   "cell_type": "code",
   "execution_count": 25,
   "metadata": {},
   "outputs": [],
   "source": [
    "PrcessCyclistCaseStudyRawData (file4,outfile4)"
   ]
  },
  {
   "cell_type": "code",
   "execution_count": 26,
   "metadata": {},
   "outputs": [],
   "source": [
    "file5 =r\"E:\\projects\\Case Study Form\\project preparation\\cyclist case study track 1\\Project data\\Open  Folders\\trip data\\1 year recent data\\data\\excel filer master\\07_2021.xlsx\"\n",
    "outfile5=r\"E:\\projects\\Case Study Form\\project preparation\\cyclist case study track 1\\Project data\\Open  Folders\\trip data\\1 year recent data\\concate\\5.xlsx\""
   ]
  },
  {
   "cell_type": "code",
   "execution_count": 27,
   "metadata": {},
   "outputs": [],
   "source": [
    "PrcessCyclistCaseStudyRawData (file5,outfile5)"
   ]
  },
  {
   "cell_type": "code",
   "execution_count": 28,
   "metadata": {},
   "outputs": [],
   "source": [
    "file6 =r\"E:\\projects\\Case Study Form\\project preparation\\cyclist case study track 1\\Project data\\Open  Folders\\trip data\\1 year recent data\\data\\excel filer master\\06_2021.xlsx\"\n",
    "outfile6=r\"E:\\projects\\Case Study Form\\project preparation\\cyclist case study track 1\\Project data\\Open  Folders\\trip data\\1 year recent data\\concate\\6.xlsx\""
   ]
  },
  {
   "cell_type": "code",
   "execution_count": 29,
   "metadata": {},
   "outputs": [],
   "source": [
    "PrcessCyclistCaseStudyRawData (file6,outfile6)"
   ]
  },
  {
   "cell_type": "code",
   "execution_count": 33,
   "metadata": {},
   "outputs": [],
   "source": [
    "file7 =r\"E:\\projects\\Case Study Form\\project preparation\\cyclist case study track 1\\Project data\\Open  Folders\\trip data\\1 year recent data\\data\\excel filer master\\05_2021.xlsx\"\n",
    "outfile7=r\"E:\\projects\\Case Study Form\\project preparation\\cyclist case study track 1\\Project data\\Open  Folders\\trip data\\1 year recent data\\concate\\7.xlsx\""
   ]
  },
  {
   "cell_type": "code",
   "execution_count": 34,
   "metadata": {},
   "outputs": [],
   "source": [
    "PrcessCyclistCaseStudyRawData (file7,outfile7)"
   ]
  },
  {
   "cell_type": "code",
   "execution_count": 36,
   "metadata": {},
   "outputs": [],
   "source": [
    "file8 =r\"E:\\projects\\Case Study Form\\project preparation\\cyclist case study track 1\\Project data\\Open  Folders\\trip data\\1 year recent data\\data\\excel filer master\\04_2021.xlsx\"\n",
    "outfile8=r\"E:\\projects\\Case Study Form\\project preparation\\cyclist case study track 1\\Project data\\Open  Folders\\trip data\\1 year recent data\\concate\\8.xlsx\""
   ]
  },
  {
   "cell_type": "code",
   "execution_count": 37,
   "metadata": {},
   "outputs": [],
   "source": [
    "PrcessCyclistCaseStudyRawData (file8,outfile8)"
   ]
  },
  {
   "cell_type": "code",
   "execution_count": 38,
   "metadata": {},
   "outputs": [],
   "source": [
    "file9 =r\"E:\\projects\\Case Study Form\\project preparation\\cyclist case study track 1\\Project data\\Open  Folders\\trip data\\1 year recent data\\data\\excel filer master\\03_2021.xlsx\"\n",
    "outfile9=r\"E:\\projects\\Case Study Form\\project preparation\\cyclist case study track 1\\Project data\\Open  Folders\\trip data\\1 year recent data\\concate\\9.xlsx\""
   ]
  },
  {
   "cell_type": "code",
   "execution_count": 39,
   "metadata": {},
   "outputs": [],
   "source": [
    "PrcessCyclistCaseStudyRawData (file9,outfile9)"
   ]
  },
  {
   "cell_type": "code",
   "execution_count": 40,
   "metadata": {},
   "outputs": [],
   "source": [
    "file10 =r\"E:\\projects\\Case Study Form\\project preparation\\cyclist case study track 1\\Project data\\Open  Folders\\trip data\\1 year recent data\\data\\excel filer master\\02_2021.xlsx\"\n",
    "outfile10=r\"E:\\projects\\Case Study Form\\project preparation\\cyclist case study track 1\\Project data\\Open  Folders\\trip data\\1 year recent data\\concate\\10.xlsx\""
   ]
  },
  {
   "cell_type": "code",
   "execution_count": 41,
   "metadata": {},
   "outputs": [],
   "source": [
    "PrcessCyclistCaseStudyRawData (file10,outfile10)"
   ]
  },
  {
   "cell_type": "code",
   "execution_count": 42,
   "metadata": {},
   "outputs": [],
   "source": [
    "file11 =r\"E:\\projects\\Case Study Form\\project preparation\\cyclist case study track 1\\Project data\\Open  Folders\\trip data\\1 year recent data\\data\\excel filer master\\01_2021.xlsx\"\n",
    "outfile11=r\"E:\\projects\\Case Study Form\\project preparation\\cyclist case study track 1\\Project data\\Open  Folders\\trip data\\1 year recent data\\concate\\11.xlsx\""
   ]
  },
  {
   "cell_type": "code",
   "execution_count": 43,
   "metadata": {},
   "outputs": [],
   "source": [
    "PrcessCyclistCaseStudyRawData (file11,outfile11)"
   ]
  },
  {
   "cell_type": "code",
   "execution_count": null,
   "metadata": {},
   "outputs": [],
   "source": []
  }
 ],
 "metadata": {
  "kernelspec": {
   "display_name": "Python 3",
   "language": "python",
   "name": "python3"
  },
  "language_info": {
   "codemirror_mode": {
    "name": "ipython",
    "version": 3
   },
   "file_extension": ".py",
   "mimetype": "text/x-python",
   "name": "python",
   "nbconvert_exporter": "python",
   "pygments_lexer": "ipython3",
   "version": "3.8.3"
  }
 },
 "nbformat": 4,
 "nbformat_minor": 4
}
